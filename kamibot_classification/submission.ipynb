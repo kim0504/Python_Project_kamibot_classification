{
 "cells": [
  {
   "cell_type": "code",
   "execution_count": null,
   "id": "65520cda",
   "metadata": {},
   "outputs": [],
   "source": [
    "import tensorflow.keras\n",
    "import numpy as np\n",
    "import cv2\n",
    "from pyKamipi.pibot import *"
   ]
  },
  {
   "cell_type": "code",
   "execution_count": null,
   "id": "213145c4",
   "metadata": {},
   "outputs": [],
   "source": [
    "kamibot= KamibotPi('COM5', 57600)"
   ]
  },
  {
   "cell_type": "code",
   "execution_count": null,
   "id": "366a1bba",
   "metadata": {},
   "outputs": [],
   "source": [
    "model = tensorflow.keras.models.load_model('keras_model.h5')"
   ]
  },
  {
   "cell_type": "code",
   "execution_count": null,
   "id": "178ea6a1",
   "metadata": {},
   "outputs": [],
   "source": [
    "capture = cv2.VideoCapture(0)"
   ]
  },
  {
   "cell_type": "code",
   "execution_count": null,
   "id": "80304d15",
   "metadata": {},
   "outputs": [],
   "source": [
    "capture.set(cv2.CAP_PROP_FRAME_WIDTH, 1280)\n",
    "capture.set(cv2.CAP_PROP_FRAME_HEIGHT, 960)"
   ]
  },
  {
   "cell_type": "code",
   "execution_count": null,
   "id": "dff0784d",
   "metadata": {},
   "outputs": [],
   "source": [
    "def preprocessing(frame):\n",
    "\n",
    "    size = (224, 224)\n",
    "    frame_resized = cv2.resize(frame, size)\n",
    "    \n",
    "    frame_normalized = (frame_resized.astype(np.float32) / 127.0) - 1\n",
    "\n",
    "    frame_reshaped = frame_normalized.reshape((1, 224, 224, 3))\n",
    "    return frame_reshaped"
   ]
  },
  {
   "cell_type": "code",
   "execution_count": null,
   "id": "20ccc5b5",
   "metadata": {},
   "outputs": [],
   "source": [
    "location = {'uk':[1,2], 'turkey':[2,1], 'korea':[4,1]}\n",
    "cur_loc = [1,1]"
   ]
  },
  {
   "cell_type": "code",
   "execution_count": null,
   "id": "85db1f85",
   "metadata": {},
   "outputs": [],
   "source": [
    "def move_country(arr):\n",
    "    global cur_loc\n",
    "    distance = (location[arr][0]-cur_loc[0], location[arr][1]-cur_loc[1])\n",
    "    \n",
    "    if distance[0] > 0:\n",
    "        kamibot.move_forward(distance[0])\n",
    "    elif distance[0] < 0:\n",
    "        kamibot.turn_back()\n",
    "        kamibot.move_forward(abs(distance[0]))\n",
    "    move_updown(distance)\n",
    "    \n",
    "    cur_loc = location[arr]\n",
    "    arrive_melody()"
   ]
  },
  {
   "cell_type": "code",
   "execution_count": null,
   "id": "70ab30f0",
   "metadata": {},
   "outputs": [],
   "source": [
    "def move_updown(distance):\n",
    "    if distance[0] >= 0:\n",
    "        if distance[1] > 0:\n",
    "            kamibot.turn_left()    \n",
    "            kamibot.move_forward(distance[1])\n",
    "            kamibot.turn_right()\n",
    "        else:\n",
    "            kamibot.turn_right()    \n",
    "            kamibot.move_forward(abs(distance[1]))\n",
    "            kamibot.turn_left()\n",
    "    else:\n",
    "        if distance[1] > 0:\n",
    "            kamibot.turn_right()    \n",
    "            kamibot.move_forward(abs(distance[1]))\n",
    "            kamibot.turn_right()\n",
    "        else:\n",
    "            kamibot.turn_left()    \n",
    "            kamibot.move_forward(distance[1])\n",
    "            kamibot.turn_left()"
   ]
  },
  {
   "cell_type": "code",
   "execution_count": null,
   "id": "a598df38",
   "metadata": {},
   "outputs": [],
   "source": [
    "def arrive_melody():\n",
    "    melody = [52, 53, 55]\n",
    "    for i in melody:\n",
    "        kamibot.melody(i,0.35)"
   ]
  },
  {
   "cell_type": "code",
   "execution_count": null,
   "id": "c2a9c58b",
   "metadata": {},
   "outputs": [],
   "source": [
    "while True:\n",
    "    ret, frame = capture.read()\n",
    "\n",
    "    if cv2.waitKey(100) > 0: \n",
    "        break\n",
    "\n",
    "    prediction = model.predict(preprocessing(frame))\n",
    "    \n",
    "    if (prediction[0,0] > 0.8):\n",
    "        cv2.putText(frame, 'uk', (0, 25), 0, 1, (0, 0, 0))\n",
    "        kamibot.turn_led(0, 255, 0)\n",
    "        move_country('uk')\n",
    "\n",
    "    elif (prediction[0,1] > 0.8):\n",
    "        cv2.putText(frame, 'korea', (0, 25), 0, 1, (0, 0, 0))\n",
    "        kamibot.turn_led(255, 0, 0)\n",
    "        move_country('korea')\n",
    "        \n",
    "    elif (prediction[0,2] > 0.8):\n",
    "        cv2.putText(frame, 'turkey', (0, 25), 0, 1, (0, 0, 0))\n",
    "        kamibot.turn_led(0, 0, 255)\n",
    "        move_country('turkey')\n",
    "        \n",
    "    else:\n",
    "        cv2.putText(frame, 'None', (0, 25), 0, 1, (0, 0, 0))\n",
    "        kamibot.turn_led(255, 255, 255)\n",
    "\n",
    "    cv2.imshow(\"VideoFrame\", frame)\n",
    "    \n",
    "cv2.destroyAllWindows()"
   ]
  }
 ],
 "metadata": {
  "kernelspec": {
   "display_name": "Python 3 (ipykernel)",
   "language": "python",
   "name": "python3"
  },
  "language_info": {
   "codemirror_mode": {
    "name": "ipython",
    "version": 3
   },
   "file_extension": ".py",
   "mimetype": "text/x-python",
   "name": "python",
   "nbconvert_exporter": "python",
   "pygments_lexer": "ipython3",
   "version": "3.9.7"
  }
 },
 "nbformat": 4,
 "nbformat_minor": 5
}
